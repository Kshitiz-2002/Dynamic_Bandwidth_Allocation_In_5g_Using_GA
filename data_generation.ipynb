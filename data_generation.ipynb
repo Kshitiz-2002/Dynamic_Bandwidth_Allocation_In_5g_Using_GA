{
 "cells": [
  {
   "cell_type": "code",
   "execution_count": 3,
   "metadata": {},
   "outputs": [],
   "source": [
    "import os\n",
    "import random\n",
    "import numpy as np\n",
    "import pandas as pd"
   ]
  },
  {
   "cell_type": "code",
   "execution_count": 4,
   "metadata": {},
   "outputs": [],
   "source": [
    "num_MBS = 21\n",
    "num_cells_per_MBS = [4, 5, 2, 3, 6, 5, 9, 7, 3, 5, 4, 2, 6, 1, 8, 4, 3, 4, 5, 3, 7] \n",
    "max_BW = 100\n",
    "min_BW = 5\n",
    "num_days = 7\n",
    "num_time_slots = 96"
   ]
  },
  {
   "cell_type": "code",
   "execution_count": 5,
   "metadata": {},
   "outputs": [],
   "source": [
    "output_dir = \"./Dataset\"\n",
    "os.makedirs(output_dir, exist_ok=True)"
   ]
  },
  {
   "cell_type": "code",
   "execution_count": 7,
   "metadata": {},
   "outputs": [],
   "source": [
    "traffic_requirements = []\n",
    "for mbs_id in range(num_MBS):\n",
    "    num_cells = num_cells_per_MBS[mbs_id]\n",
    "    mbs_traffic = []\n",
    "    for cell_id in range(num_cells):\n",
    "        cell_traffic = []\n",
    "        for day in range(num_days):\n",
    "            day_traffic = [random.uniform(0.1, 10) for _ in range(num_time_slots)]\n",
    "            cell_traffic.append(day_traffic)\n",
    "        mbs_traffic.append(cell_traffic)\n",
    "    traffic_requirements.append(mbs_traffic)"
   ]
  },
  {
   "cell_type": "code",
   "execution_count": 9,
   "metadata": {},
   "outputs": [
    {
     "name": "stdout",
     "output_type": "stream",
     "text": [
      "Traffic requirements data saved to ./Dataset\\traffic_requirements.csv\n"
     ]
    }
   ],
   "source": [
    "traffic_df = pd.DataFrame(traffic_requirements)\n",
    "traffic_file = os.path.join(output_dir, \"traffic_requirements.csv\")\n",
    "traffic_df.to_csv(traffic_file, index=False, header=False)\n",
    "print(f\"Traffic requirements data saved to {traffic_file}\")"
   ]
  }
 ],
 "metadata": {
  "kernelspec": {
   "display_name": "Python 3",
   "language": "python",
   "name": "python3"
  },
  "language_info": {
   "codemirror_mode": {
    "name": "ipython",
    "version": 3
   },
   "file_extension": ".py",
   "mimetype": "text/x-python",
   "name": "python",
   "nbconvert_exporter": "python",
   "pygments_lexer": "ipython3",
   "version": "3.11.5"
  }
 },
 "nbformat": 4,
 "nbformat_minor": 2
}
